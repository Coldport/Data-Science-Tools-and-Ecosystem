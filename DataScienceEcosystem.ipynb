{
 "cells": [
  {
   "cell_type": "markdown",
   "id": "7bcc9800-0965-499f-acc9-89daa8216fba",
   "metadata": {},
   "source": [
    "# Data Science Tools and Ecosystem"
   ]
  },
  {
   "cell_type": "markdown",
   "id": "552693ff-0dda-4a37-bec7-6ce8de5d3027",
   "metadata": {},
   "source": [
    "In this notebook, Data Science Tools and Ecosystem are summarized."
   ]
  },
  {
   "cell_type": "markdown",
   "id": "bdb4a137-b241-4782-818c-3a64d5850e9a",
   "metadata": {},
   "source": [
    "Objectives:\n",
    "* List popular languages for Data Science.\n",
    "* List commonly used libraries for data science.\n",
    "* list commonly used data science tools.\n",
    "* examples of evaluating arithmetic expressions in Python"
   ]
  },
  {
   "cell_type": "markdown",
   "id": "5e66815e-d2f3-4c7a-969c-c0e42075638c",
   "metadata": {},
   "source": [
    "Some of the popular languages that Data Scientists use are\n",
    "1. R\n",
    "2. Python\n",
    "3. Julia\n",
    "4. SQL\n",
    "5. Scala\n",
    "6. Java\n",
    "7. C++"
   ]
  },
  {
   "cell_type": "markdown",
   "id": "0ba51cec-ffcf-4e51-90e6-0efbabab223c",
   "metadata": {},
   "source": [
    "Some of the commonly used libraries used by Data Scientists include:\n",
    "1. Pandas\n",
    "2. Numpy\n",
    "3. Matplotlib\n",
    "4. SciPy\n",
    "5. Keras\n",
    "6. TensorFlow\n",
    "7. Pytorch"
   ]
  },
  {
   "cell_type": "markdown",
   "id": "013b5d91-fb44-41eb-ab2f-5a0f0e7a0a2e",
   "metadata": {},
   "source": [
    "| Data Science Tools |\n",
    "|:-----------------  |\n",
    "| R Studio           |\n",
    "| jupyter            |\n",
    "| Spyder             |\n"
   ]
  },
  {
   "cell_type": "markdown",
   "id": "82ca7ca9-a3f1-4f91-b385-99f8167ecca1",
   "metadata": {},
   "source": [
    "### Below are a few examples of evaluating arithmetic expressions in Python"
   ]
  },
  {
   "cell_type": "code",
   "execution_count": 6,
   "id": "1567f2ba-29d5-4ce3-80a0-900e1c9a4d98",
   "metadata": {},
   "outputs": [
    {
     "data": {
      "text/plain": [
       "17"
      ]
     },
     "execution_count": 6,
     "metadata": {},
     "output_type": "execute_result"
    }
   ],
   "source": [
    "#This a simple arithmetic expression to mutiply then add integers\n",
    "(3*4)+5"
   ]
  },
  {
   "cell_type": "code",
   "execution_count": 7,
   "id": "e6c256ec-24c8-4188-91ee-8cbfdf30c787",
   "metadata": {},
   "outputs": [
    {
     "data": {
      "text/plain": [
       "3.3333333333333335"
      ]
     },
     "execution_count": 7,
     "metadata": {},
     "output_type": "execute_result"
    }
   ],
   "source": [
    "# This will convert 200 minutes to hours by diving by 60\n",
    "200 / 60"
   ]
  },
  {
   "cell_type": "markdown",
   "id": "36bd24c7-9d7e-44cf-b314-812a8658d06e",
   "metadata": {},
   "source": [
    "## Author\n",
    "Layilla Williams"
   ]
  }
 ],
 "metadata": {
  "kernelspec": {
   "display_name": "Python 3 (ipykernel)",
   "language": "python",
   "name": "python3"
  },
  "language_info": {
   "codemirror_mode": {
    "name": "ipython",
    "version": 3
   },
   "file_extension": ".py",
   "mimetype": "text/x-python",
   "name": "python",
   "nbconvert_exporter": "python",
   "pygments_lexer": "ipython3",
   "version": "3.12.0"
  }
 },
 "nbformat": 4,
 "nbformat_minor": 5
}
